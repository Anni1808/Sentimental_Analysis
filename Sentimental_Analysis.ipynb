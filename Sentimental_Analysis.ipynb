{
 "cells": [
  {
   "cell_type": "code",
   "execution_count": 1,
   "id": "a373e9b3-8b26-40d2-894d-3289b62a43f2",
   "metadata": {},
   "outputs": [],
   "source": [
    "import pandas as pd\n",
    "import numpy as np\n",
    "import matplotlib.pyplot as plt\n",
    "from tensorflow.python.keras import models, layers, optimizers\n",
    "import tensorflow\n",
    "from tensorflow.keras.preprocessing.text import Tokenizer, text_to_word_sequence\n",
    "from tensorflow.keras.preprocessing.sequence import pad_sequences\n",
    "import bz2 #module to compress or decompress a given text or file.\n",
    "from sklearn.metrics import f1_score, roc_auc_score, accuracy_score\n",
    "import re # regular expression--pattern matching\n",
    "\n",
    "%matplotlib inline"
   ]
  },
  {
   "cell_type": "code",
   "execution_count": 2,
   "id": "35e4d3bb-c6c2-46f0-9389-e02fda82fa0f",
   "metadata": {},
   "outputs": [],
   "source": [
    "def get_labels_and_texts(file):\n",
    "    labels = []\n",
    "    texts = []\n",
    "    for line in bz2.BZ2File(file):\n",
    "        x = line.decode(\"utf-8\")\n",
    "        labels.append(int(x[9]) - 1)\n",
    "        texts.append(x[10:].strip())\n",
    "    return np.array(labels), texts\n",
    "train_labels, train_texts = get_labels_and_texts('train.ft.txt.bz2')\n",
    "test_labels, test_texts = get_labels_and_texts('test.ft.txt.bz2')"
   ]
  },
  {
   "cell_type": "markdown",
   "id": "18920ea9-e4cb-4263-bc37-908a7af901ee",
   "metadata": {},
   "source": [
    "1.\n",
    "2.\n",
    "3.\n",
    "4. bz2.BZ2File is a function to extract data from compressed files\n",
    "5. decode file\n",
    "6. converts 1 based indexing to 0 based, so did -1\n",
    "7. starting from 10th index, the texts(reviews) are grabbed and extra spaces are removed"
   ]
  },
  {
   "cell_type": "code",
   "execution_count": 5,
   "id": "bc21e707-55a6-4c34-8d51-261736351a26",
   "metadata": {},
   "outputs": [
    {
     "data": {
      "text/plain": [
       "1"
      ]
     },
     "execution_count": 5,
     "metadata": {},
     "output_type": "execute_result"
    }
   ],
   "source": [
    "train_labels[1]"
   ]
  },
  {
   "cell_type": "code",
   "execution_count": 6,
   "id": "b68d8107-a9c7-4b89-9524-660c102a7465",
   "metadata": {},
   "outputs": [
    {
     "data": {
      "text/plain": [
       "1"
      ]
     },
     "execution_count": 6,
     "metadata": {},
     "output_type": "execute_result"
    }
   ],
   "source": [
    "test_labels[1]"
   ]
  },
  {
   "cell_type": "code",
   "execution_count": 7,
   "id": "99bd5cf7-65a0-4505-9e7c-75d01dfc04eb",
   "metadata": {},
   "outputs": [
    {
     "data": {
      "text/plain": [
       "'Stuning even for the non-gamer: This sound track was beautiful! It paints the senery in your mind so well I would recomend it even to people who hate vid. game music! I have played the game Chrono Cross but out of all of the games I have ever played it has the best music! It backs away from crude keyboarding and takes a fresher step with grate guitars and soulful orchestras. It would impress anyone who cares to listen! ^_^'"
      ]
     },
     "execution_count": 7,
     "metadata": {},
     "output_type": "execute_result"
    }
   ],
   "source": [
    "train_texts[0]"
   ]
  },
  {
   "cell_type": "code",
   "execution_count": 8,
   "id": "f89b56db-3d6e-4541-93e3-bb11cfdeb471",
   "metadata": {},
   "outputs": [
    {
     "data": {
      "text/plain": [
       "'Great CD: My lovely Pat has one of the GREAT voices of her generation. I have listened to this CD for YEARS and I still LOVE IT. When I\\'m in a good mood it makes me feel better. A bad mood just evaporates like sugar in the rain. This CD just oozes LIFE. Vocals are jusat STUUNNING and lyrics just kill. One of life\\'s hidden gems. This is a desert isle CD in my book. Why she never made it big is just beyond me. Everytime I play this, no matter black, white, young, old, male, female EVERYBODY says one thing \"Who was that singing ?\"'"
      ]
     },
     "execution_count": 8,
     "metadata": {},
     "output_type": "execute_result"
    }
   ],
   "source": [
    "test_texts[0]"
   ]
  },
  {
   "cell_type": "code",
   "execution_count": 9,
   "id": "7d5ea2cd-849b-4fb8-9415-714e363d0b64",
   "metadata": {},
   "outputs": [
    {
     "data": {
      "text/plain": [
       "\"The best soundtrack ever to anything.: I'm reading a lot of reviews saying that this is the best 'game soundtrack' and I figured that I'd write a review to disagree a bit. This in my opinino is Yasunori Mitsuda's ultimate masterpiece. The music is timeless and I'm been listening to it for years now and its beauty simply refuses to fade.The price tag on this is pretty staggering I must say, but if you are going to buy any cd for this much money, this is the only one that I feel would be worth every penny.\""
      ]
     },
     "execution_count": 9,
     "metadata": {},
     "output_type": "execute_result"
    }
   ],
   "source": [
    "train_texts[1]"
   ]
  },
  {
   "cell_type": "code",
   "execution_count": 10,
   "id": "3955a9e2-c89b-4d46-a2e5-d96927160641",
   "metadata": {},
   "outputs": [],
   "source": [
    "train_labels=train_labels[0:500]"
   ]
  },
  {
   "cell_type": "code",
   "execution_count": 11,
   "id": "299b9d78-6a8e-41ed-8ffb-43ee6e5de5bd",
   "metadata": {},
   "outputs": [],
   "source": [
    "train_texts=train_texts[0:500]"
   ]
  },
  {
   "cell_type": "code",
   "execution_count": 12,
   "id": "1c65a8ef-9cb4-4bd4-9a9c-92720a07ff43",
   "metadata": {},
   "outputs": [],
   "source": [
    "#text-preprocessing to remove punctuations"
   ]
  },
  {
   "cell_type": "code",
   "execution_count": 15,
   "id": "afd87256-4580-4bde-8360-9972984bcc63",
   "metadata": {},
   "outputs": [],
   "source": [
    "NON_ALPHANUM = re.compile(r'[\\W]')\n",
    "NON_ASCII = re.compile(r'[^a-z0-1\\s]')\n",
    "def normalize_texts(texts):\n",
    "    normalized_texts = []\n",
    "    for text in texts:\n",
    "        lower = text.lower()\n",
    "        no_punctuation = NON_ALPHANUM.sub(r' ', lower)\n",
    "        no_non_ascii = NON_ASCII.sub(r'', no_punctuation)\n",
    "        normalized_texts.append(no_non_ascii)\n",
    "    return normalized_texts\n",
    "        \n",
    "train_texts = normalize_texts(train_texts)\n",
    "test_texts = normalize_texts(test_texts)"
   ]
  },
  {
   "cell_type": "code",
   "execution_count": 17,
   "id": "98d1b935-112e-49d0-960f-dc35d956b6e2",
   "metadata": {},
   "outputs": [],
   "source": [
    "#Vectorization and modelling - count vector"
   ]
  },
  {
   "cell_type": "code",
   "execution_count": 19,
   "id": "8a350a7f-ab8a-48fc-bc57-f3e071844c72",
   "metadata": {},
   "outputs": [],
   "source": [
    "from sklearn.feature_extraction.text import CountVectorizer\n",
    "\n",
    "cv = CountVectorizer(binary=True)\n",
    "cv.fit(train_texts)\n",
    "X = cv.transform(train_texts) #matches words with numbers\n",
    "X_test = cv.transform(test_texts)"
   ]
  },
  {
   "cell_type": "code",
   "execution_count": 20,
   "id": "2a5b020a-f5c2-4912-8c65-75e2bf3c2cde",
   "metadata": {},
   "outputs": [
    {
     "name": "stdout",
     "output_type": "stream",
     "text": [
      "Accuracy for C=0.01: 0.744\n",
      "Accuracy for C=0.05: 0.744\n",
      "Accuracy for C=0.25: 0.752\n",
      "Accuracy for C=0.5: 0.752\n",
      "Accuracy for C=1: 0.76\n"
     ]
    }
   ],
   "source": [
    "from sklearn.linear_model import LogisticRegression\n",
    "from sklearn.metrics import accuracy_score\n",
    "from sklearn.model_selection import train_test_split\n",
    "\n",
    "\n",
    "X_train, X_val, y_train, y_val = train_test_split(\n",
    "    X, train_labels, train_size = 0.75\n",
    ")\n",
    "\n",
    "for c in [0.01, 0.05, 0.25, 0.5, 1]:\n",
    "    \n",
    "    lr = LogisticRegression(C=c)\n",
    "    lr.fit(X_train, y_train)\n",
    "    print (\"Accuracy for C=%s: %s\" \n",
    "           % (c, accuracy_score(y_val, lr.predict(X_val))))"
   ]
  },
  {
   "cell_type": "code",
   "execution_count": 21,
   "id": "af0d8e7d-a219-4e57-8ff8-5435330d9e56",
   "metadata": {},
   "outputs": [
    {
     "data": {
      "text/plain": [
       "array([0])"
      ]
     },
     "execution_count": 21,
     "metadata": {},
     "output_type": "execute_result"
    }
   ],
   "source": [
    "lr.predict(X_test[29])"
   ]
  },
  {
   "cell_type": "code",
   "execution_count": 22,
   "id": "915191e6-031f-4c7d-8c53-96326a2eb64c",
   "metadata": {},
   "outputs": [
    {
     "data": {
      "text/plain": [
       "0"
      ]
     },
     "execution_count": 22,
     "metadata": {},
     "output_type": "execute_result"
    }
   ],
   "source": [
    "test_labels[29]"
   ]
  },
  {
   "cell_type": "code",
   "execution_count": 23,
   "id": "23bd023c-8d30-4f1e-8d58-6e3b4b956666",
   "metadata": {},
   "outputs": [
    {
     "data": {
      "text/plain": [
       "'three days of use and it broke  very disappointed in this product  it worked perfectly for exactly three days and could not be resuscitated  it was very inexpensive so i did not want to pay half again the price to ship it back for an exchange  so the company would do nothing when they sent me an inquiry as to product satisfaction '"
      ]
     },
     "execution_count": 23,
     "metadata": {},
     "output_type": "execute_result"
    }
   ],
   "source": [
    "test_texts[29]"
   ]
  },
  {
   "cell_type": "code",
   "execution_count": null,
   "id": "9697d234-9c29-4b09-bc84-9ef815f82889",
   "metadata": {},
   "outputs": [],
   "source": []
  }
 ],
 "metadata": {
  "kernelspec": {
   "display_name": "Python 3 (ipykernel)",
   "language": "python",
   "name": "python3"
  },
  "language_info": {
   "codemirror_mode": {
    "name": "ipython",
    "version": 3
   },
   "file_extension": ".py",
   "mimetype": "text/x-python",
   "name": "python",
   "nbconvert_exporter": "python",
   "pygments_lexer": "ipython3",
   "version": "3.11.7"
  }
 },
 "nbformat": 4,
 "nbformat_minor": 5
}
